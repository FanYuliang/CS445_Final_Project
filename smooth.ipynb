{
 "cells": [
  {
   "cell_type": "markdown",
   "metadata": {},
   "source": [
    "# Data Generation"
   ]
  },
  {
   "cell_type": "markdown",
   "metadata": {},
   "source": [
    "### Image - Fixed Foveation"
   ]
  },
  {
   "cell_type": "code",
   "execution_count": 19,
   "metadata": {},
   "outputs": [],
   "source": [
    "import numpy as np\n",
    "np.random.seed(19980430)\n",
    "import cv2\n",
    "from scipy import signal"
   ]
  },
  {
   "cell_type": "code",
   "execution_count": 20,
   "metadata": {},
   "outputs": [],
   "source": [
    "inset_x = 0.5\n",
    "inset_y = 0.5\n",
    "inset_half = 0.125\n",
    "blur = 4  # scale of blurring for periphery"
   ]
  },
  {
   "cell_type": "code",
   "execution_count": 21,
   "metadata": {},
   "outputs": [],
   "source": [
    "def blur_image (im, inset_x, inset_y, inset_half):\n",
    "    h, w, c = im.shape\n",
    "    im_lo = cv2.resize(im, (w // blur, h // blur))\n",
    "    im_lo_hi = cv2.resize(im_lo, (w, h))\n",
    "    ymin = int(h * (inset_y - inset_half))\n",
    "    ymax = int(h * (inset_y + inset_half))\n",
    "    xmin = int(w * (inset_x - inset_half))\n",
    "    xmax = int(w * (inset_x + inset_half))\n",
    "    im_lo_hi[ymin:ymax, xmin:xmax] = im[ymin:ymax, xmin:xmax]\n",
    "    return im_lo_hi"
   ]
  },
  {
   "cell_type": "code",
   "execution_count": 22,
   "metadata": {},
   "outputs": [
    {
     "data": {
      "text/plain": [
       "True"
      ]
     },
     "execution_count": 22,
     "metadata": {},
     "output_type": "execute_result"
    }
   ],
   "source": [
    "im = cv2.imread('data/im.jpg')  # (1080, 1920)\n",
    "im_FF = blur_image(im, inset_x, inset_y, inset_half)\n",
    "cv2.imwrite('data/im_FF.png', im_FF)"
   ]
  },
  {
   "cell_type": "markdown",
   "metadata": {},
   "source": [
    "### Video - Fixed Foveation"
   ]
  },
  {
   "cell_type": "code",
   "execution_count": null,
   "metadata": {},
   "outputs": [],
   "source": [
    "video_in = 'data/beatsaber.mp4'\n",
    "video_out = 'beatsaber_FF.mp4'\n",
    "\n",
    "cap = cv2.VideoCapture(video_in)\n",
    "fps = int(cap.get(cv2.CAP_PROP_FPS))\n",
    "w = int(cap.get(cv2.CAP_PROP_FRAME_WIDTH))\n",
    "h = int(cap.get(cv2.CAP_PROP_FRAME_HEIGHT))\n",
    "fourcc = cv2.VideoWriter_fourcc(*'XVID')\n",
    "out = cv2.VideoWriter(video_out, fourcc, fps, (w, h))\n",
    "\n",
    "while True:\n",
    "    more, im = cap.read()\n",
    "    if not more:\n",
    "        break\n",
    "    im_FF = blur_image(im, inset_x, inset_y, inset_half)\n",
    "    out.write(im_FF)"
   ]
  },
  {
   "cell_type": "markdown",
   "metadata": {},
   "source": [
    "### Video - Dynamic Foveation"
   ]
  },
  {
   "cell_type": "code",
   "execution_count": 32,
   "metadata": {},
   "outputs": [],
   "source": [
    "inset_center_arr = []\n",
    "inset_center = [inset_x, inset_y]\n",
    "\n",
    "for i in range(100000):\n",
    "    inset_velocity = [np.random.normal(scale=0.02), np.random.normal(scale=0.02)]\n",
    "    inset_center[0] += inset_velocity[0]\n",
    "    inset_center[1] += inset_velocity[1]\n",
    "    inset_center[0] = max(min(inset_center[0], 1 - inset_half - 1/32), inset_half + 1/32)\n",
    "    inset_center[1] = max(min(inset_center[1], 1 - inset_half - 1/32), inset_half + 1/32)\n",
    "    inset_center_arr.append(inset_center.copy())"
   ]
  },
  {
   "cell_type": "code",
   "execution_count": 34,
   "metadata": {},
   "outputs": [],
   "source": [
    "video_in = 'data/beatsaber.mp4'\n",
    "video_out = 'beatsaber_DF.mp4'\n",
    "\n",
    "cap = cv2.VideoCapture(video_in)\n",
    "fps = int(cap.get(cv2.CAP_PROP_FPS))\n",
    "w = int(cap.get(cv2.CAP_PROP_FRAME_WIDTH))\n",
    "h = int(cap.get(cv2.CAP_PROP_FRAME_HEIGHT))\n",
    "fourcc = cv2.VideoWriter_fourcc(*'XVID')\n",
    "out = cv2.VideoWriter(video_out, fourcc, fps, (w, h))\n",
    "\n",
    "for i in range(len(inset_center_arr)):\n",
    "    more, im = cap.read()\n",
    "    if not more:\n",
    "        break\n",
    "    inset_center = inset_center_arr[i]\n",
    "    im_DF = blur_image(im, inset_center[0], inset_center[1], inset_half)\n",
    "    im_DF[int(h * inset_center[1] - 2):int(h * inset_center[1] + 3), int(w * inset_center[0] - 2):int(w * inset_center[0] + 3), :] = 255\n",
    "    out.write(im_DF)\n",
    "\n",
    "cap.release()\n",
    "out.release()\n",
    "cv2.destroyAllWindows()"
   ]
  },
  {
   "cell_type": "markdown",
   "metadata": {},
   "source": [
    "# Alpha Blending"
   ]
  },
  {
   "cell_type": "code",
   "execution_count": 5,
   "metadata": {},
   "outputs": [],
   "source": [
    "im_FF = cv2.imread('data/im_FF.png')\n",
    "im = cv2.imread('data/im.jpg')\n",
    "h, w, c = im.shape\n",
    "im_lo = cv2.resize(im, (w // blur, h // blur))\n",
    "im_lo_hi = cv2.resize(im_lo, (w, h))"
   ]
  },
  {
   "cell_type": "code",
   "execution_count": 6,
   "metadata": {},
   "outputs": [],
   "source": [
    "def smooth_alpha (im, im_lo_hi, inset_x, inset_y, inset_half, strip_half):\n",
    "    im_out = im.copy()\n",
    "    h, w, c = im.shape\n",
    "    l, r = int(w * (inset_x - inset_half)), int(w * (inset_x + inset_half))\n",
    "    u, d = int(h * (inset_y - inset_half)), int(h * (inset_y + inset_half))\n",
    "    \n",
    "    U = im[(u - strip_half):(u + strip_half + 1), l:r]\n",
    "    D = im[(d - strip_half):(d + strip_half + 1), l:r]\n",
    "    L = im[u:d, (l - strip_half):(l + strip_half + 1)]\n",
    "    R = im[u:d, (r - strip_half):(r + strip_half + 1)]\n",
    "    \n",
    "    U_blur = im_lo_hi[(u - strip_half):(u + strip_half + 1), l:r]\n",
    "    D_blur = im_lo_hi[(d - strip_half):(d + strip_half + 1), l:r]\n",
    "    L_blur = im_lo_hi[u:d, (l - strip_half):(l + strip_half + 1)]\n",
    "    R_blur = im_lo_hi[u:d, (r - strip_half):(r + strip_half + 1)]\n",
    "    \n",
    "    alpha_h = np.concatenate([np.linspace(0.0, 1.0, num=strip_half+1),\n",
    "                              np.linspace(1.0, 0.0, num=strip_half+1)[1:]], axis=0).reshape(-1, 1, 1)\n",
    "    alpha_v = alpha_h.reshape(1, -1, 1)\n",
    "    im_out[(u - strip_half):(u + strip_half + 1), l:r] = alpha_h * U_blur + (1.0 - alpha_h) * U\n",
    "    im_out[(d - strip_half):(d + strip_half + 1), l:r] = alpha_h * D_blur + (1.0 - alpha_h) * D\n",
    "    im_out[u:d, (l - strip_half):(l + strip_half + 1)] = alpha_v * L_blur + (1.0 - alpha_v) * L\n",
    "    im_out[u:d, (r - strip_half):(r + strip_half + 1)] = alpha_v * R_blur + (1.0 - alpha_v) * R\n",
    "    \n",
    "    return im_out"
   ]
  },
  {
   "cell_type": "code",
   "execution_count": 7,
   "metadata": {},
   "outputs": [
    {
     "data": {
      "text/plain": [
       "True"
      ]
     },
     "execution_count": 7,
     "metadata": {},
     "output_type": "execute_result"
    }
   ],
   "source": [
    "strip_half = 8\n",
    "im_FF_alpha = smooth_alpha(im_FF, im_lo_hi, inset_x, inset_y, inset_half, strip_half)\n",
    "cv2.imwrite('result/im_FF_alpha.png', im_FF_alpha)"
   ]
  },
  {
   "cell_type": "markdown",
   "metadata": {},
   "source": [
    "# Gaussian"
   ]
  },
  {
   "cell_type": "code",
   "execution_count": 8,
   "metadata": {},
   "outputs": [],
   "source": [
    "im_FF = cv2.imread('data/im_FF.png')"
   ]
  },
  {
   "cell_type": "code",
   "execution_count": 9,
   "metadata": {},
   "outputs": [],
   "source": [
    "def smooth_gaussian2d (im, inset_x, inset_y, inset_half, sigma, kernel_half, strip_half, alpha=False):\n",
    "    im_out = im.copy()\n",
    "    h, w, c = im.shape\n",
    "    l, r = int(w * (inset_x - inset_half)), int(w * (inset_x + inset_half))\n",
    "    u, d = int(h * (inset_y - inset_half)), int(h * (inset_y + inset_half))\n",
    "    \n",
    "    window_size = kernel_half * 2 + 1\n",
    "    gaussian_kernel_1d = signal.gaussian(window_size, std=sigma).reshape(window_size, 1)\n",
    "    gaussian_kernel_1d /= np.sum(gaussian_kernel_1d)  # normalize\n",
    "    gaussian_kernel_2d = np.outer(gaussian_kernel_1d, gaussian_kernel_1d)\n",
    "    kernel = gaussian_kernel_2d\n",
    "    \n",
    "    U = im[(u - strip_half):(u + strip_half + 1), l:r]\n",
    "    D = im[(d - strip_half):(d + strip_half + 1), l:r]\n",
    "    L = im[u:d, (l - strip_half):(l + strip_half + 1)]\n",
    "    R = im[u:d, (r - strip_half):(r + strip_half + 1)]\n",
    "    \n",
    "    U_blur = cv2.filter2D(U, -1, kernel)\n",
    "    D_blur = cv2.filter2D(D, -1, kernel)\n",
    "    L_blur = cv2.filter2D(L, -1, kernel)\n",
    "    R_blur = cv2.filter2D(R, -1, kernel)\n",
    "    \n",
    "    if not alpha:\n",
    "        im_out[(u - strip_half):(u + strip_half + 1), l:r] = U_blur\n",
    "        im_out[(d - strip_half):(d + strip_half + 1), l:r] = D_blur\n",
    "        im_out[u:d, (l - strip_half):(l + strip_half + 1)] = L_blur\n",
    "        im_out[u:d, (r - strip_half):(r + strip_half + 1)] = R_blur\n",
    "    else:\n",
    "        alpha_h = np.concatenate([np.linspace(0.0, 1.0, num=strip_half+1),\n",
    "                              np.linspace(1.0, 0.0, num=strip_half+1)[1:]], axis=0).reshape(-1, 1, 1)\n",
    "        alpha_v = alpha_h.reshape(1, -1, 1)\n",
    "        im_out[(u - strip_half):(u + strip_half + 1), l:r] = alpha_h * U_blur + (1.0 - alpha_h) * U\n",
    "        im_out[(d - strip_half):(d + strip_half + 1), l:r] = alpha_h * D_blur + (1.0 - alpha_h) * D\n",
    "        im_out[u:d, (l - strip_half):(l + strip_half + 1)] = alpha_v * L_blur + (1.0 - alpha_v) * L\n",
    "        im_out[u:d, (r - strip_half):(r + strip_half + 1)] = alpha_v * R_blur + (1.0 - alpha_v) * R\n",
    "    \n",
    "    return im_out"
   ]
  },
  {
   "cell_type": "code",
   "execution_count": 10,
   "metadata": {},
   "outputs": [],
   "source": [
    "def smooth_gaussian1d (im, inset_x, inset_y, inset_half, sigma, kernel_half, strip_half, alpha=False):\n",
    "    im_out = im.copy()\n",
    "    h, w, c = im.shape\n",
    "    l, r = int(w * (inset_x - inset_half)), int(w * (inset_x + inset_half))\n",
    "    u, d = int(h * (inset_y - inset_half)), int(h * (inset_y + inset_half))\n",
    "    \n",
    "    window_size = kernel_half * 2 + 1\n",
    "    gaussian_kernel_1d = signal.gaussian(window_size, std=sigma).reshape(window_size, 1)\n",
    "    gaussian_kernel_1d /= np.sum(gaussian_kernel_1d)\n",
    "    kernel_h = gaussian_kernel_1d  # a vertical kernel for horizontal boundaries\n",
    "    kernel_v = gaussian_kernel_1d.T  # a horizontal kernel for vertical boundaries\n",
    "    \n",
    "    U = im[(u - strip_half):(u + strip_half + 1), l:r]\n",
    "    D = im[(d - strip_half):(d + strip_half + 1), l:r]\n",
    "    L = im[u:d, (l - strip_half):(l + strip_half + 1)]\n",
    "    R = im[u:d, (r - strip_half):(r + strip_half + 1)]\n",
    "    \n",
    "    U_blur = cv2.filter2D(U, -1, kernel_h)\n",
    "    D_blur = cv2.filter2D(D, -1, kernel_h)\n",
    "    L_blur = cv2.filter2D(L, -1, kernel_v)\n",
    "    R_blur = cv2.filter2D(R, -1, kernel_v)\n",
    "    \n",
    "    if not alpha:\n",
    "        im_out[(u - strip_half):(u + strip_half + 1), l:r] = U_blur\n",
    "        im_out[(d - strip_half):(d + strip_half + 1), l:r] = D_blur\n",
    "        im_out[u:d, (l - strip_half):(l + strip_half + 1)] = L_blur\n",
    "        im_out[u:d, (r - strip_half):(r + strip_half + 1)] = R_blur\n",
    "    else:\n",
    "        alpha_h = np.concatenate([np.linspace(0.0, 1.0, num=strip_half+1),\n",
    "                              np.linspace(1.0, 0.0, num=strip_half+1)[1:]], axis=0).reshape(-1, 1, 1)\n",
    "        alpha_v = alpha_h.reshape(1, -1, 1)\n",
    "        im_out[(u - strip_half):(u + strip_half + 1), l:r] = alpha_h * U_blur + (1.0 - alpha_h) * U\n",
    "        im_out[(d - strip_half):(d + strip_half + 1), l:r] = alpha_h * D_blur + (1.0 - alpha_h) * D\n",
    "        im_out[u:d, (l - strip_half):(l + strip_half + 1)] = alpha_v * L_blur + (1.0 - alpha_v) * L\n",
    "        im_out[u:d, (r - strip_half):(r + strip_half + 1)] = alpha_v * R_blur + (1.0 - alpha_v) * R\n",
    "    \n",
    "    return im_out"
   ]
  },
  {
   "cell_type": "code",
   "execution_count": null,
   "metadata": {},
   "outputs": [],
   "source": [
    "sigma = 1.0\n",
    "kernel_half = 4\n",
    "strip_half = 8"
   ]
  },
  {
   "cell_type": "code",
   "execution_count": 12,
   "metadata": {},
   "outputs": [
    {
     "data": {
      "text/plain": [
       "True"
      ]
     },
     "execution_count": 12,
     "metadata": {},
     "output_type": "execute_result"
    }
   ],
   "source": [
    "im_FF_gaussian2d = smooth_gaussian2d(im_FF, inset_x, inset_y, inset_half, sigma, kernel_half, strip_half)\n",
    "cv2.imwrite('result/im_FF_gaussian2d.png', im_FF_gaussian2d)\n",
    "im_FF_gaussian1d = smooth_gaussian1d(im_FF, inset_x, inset_y, inset_half, sigma, kernel_half, strip_half)\n",
    "cv2.imwrite('result/im_FF_gaussian1d.png', im_FF_gaussian1d)"
   ]
  },
  {
   "cell_type": "markdown",
   "metadata": {},
   "source": [
    "# Gaussian + Alpha Blending"
   ]
  },
  {
   "cell_type": "code",
   "execution_count": 13,
   "metadata": {},
   "outputs": [
    {
     "data": {
      "text/plain": [
       "True"
      ]
     },
     "execution_count": 13,
     "metadata": {},
     "output_type": "execute_result"
    }
   ],
   "source": [
    "im_FF_gaussian2d_alpha = smooth_gaussian2d(im_FF, inset_x, inset_y, inset_half, sigma, kernel_half, strip_half, alpha=True)\n",
    "cv2.imwrite('result/im_FF_gaussian2d_alpha.png', im_FF_gaussian2d_alpha)\n",
    "im_FF_gaussian1d_alpha = smooth_gaussian1d(im_FF, inset_x, inset_y, inset_half, sigma, kernel_half, strip_half, alpha=True)\n",
    "cv2.imwrite('result/im_FF_gaussian1d_alpha.png', im_FF_gaussian1d_alpha)"
   ]
  },
  {
   "cell_type": "markdown",
   "metadata": {},
   "source": [
    "# Laplacian Pyramid Blending"
   ]
  },
  {
   "cell_type": "code",
   "execution_count": null,
   "metadata": {},
   "outputs": [],
   "source": []
  },
  {
   "cell_type": "markdown",
   "metadata": {},
   "source": [
    "# Video"
   ]
  },
  {
   "cell_type": "code",
   "execution_count": 35,
   "metadata": {},
   "outputs": [],
   "source": [
    "video_in = 'data/beatsaber_FF.mp4'\n",
    "video_out = 'beatsaber_FF_gaussian1d_alpha.mp4'\n",
    "\n",
    "cap = cv2.VideoCapture(video_in)\n",
    "fps = int(cap.get(cv2.CAP_PROP_FPS))\n",
    "w = int(cap.get(cv2.CAP_PROP_FRAME_WIDTH))\n",
    "h = int(cap.get(cv2.CAP_PROP_FRAME_HEIGHT))\n",
    "fourcc = cv2.VideoWriter_fourcc(*'XVID')\n",
    "out = cv2.VideoWriter(video_out, fourcc, fps, (w, h))\n",
    "\n",
    "while True:\n",
    "    more, im = cap.read()\n",
    "    if not more:\n",
    "        break\n",
    "    im_smooth = smooth_gaussian1d(im, inset_center[0], inset_center[1], inset_half, sigma, kernel_half, strip_half, alpha=True)\n",
    "    out.write(im_smooth)\n",
    "\n",
    "cap.release()\n",
    "out.release()\n",
    "cv2.destroyAllWindows()"
   ]
  },
  {
   "cell_type": "code",
   "execution_count": null,
   "metadata": {},
   "outputs": [],
   "source": []
  }
 ],
 "metadata": {
  "kernelspec": {
   "display_name": "Python 3",
   "language": "python",
   "name": "python3"
  },
  "language_info": {
   "codemirror_mode": {
    "name": "ipython",
    "version": 3
   },
   "file_extension": ".py",
   "mimetype": "text/x-python",
   "name": "python",
   "nbconvert_exporter": "python",
   "pygments_lexer": "ipython3",
   "version": "3.6.1"
  }
 },
 "nbformat": 4,
 "nbformat_minor": 2
}
